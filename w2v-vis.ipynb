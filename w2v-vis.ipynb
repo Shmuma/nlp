{
 "cells": [
  {
   "cell_type": "code",
   "execution_count": 1,
   "metadata": {
    "collapsed": true
   },
   "outputs": [],
   "source": [
    "import numpy as np\n",
    "import pickle"
   ]
  },
  {
   "cell_type": "code",
   "execution_count": 5,
   "metadata": {
    "collapsed": false
   },
   "outputs": [],
   "source": [
    "embeddings = np.load(\"text8-2-30000.npy\")\n",
    "with open(\"text8.dict\", \"rb\") as fd:\n",
    "    dict_data = pickle.load(fd)"
   ]
  },
  {
   "cell_type": "code",
   "execution_count": 6,
   "metadata": {
    "collapsed": false
   },
   "outputs": [],
   "source": [
    "# build reverse dictionary\n",
    "rev_dict = {idx: token for token, idx in dict_data.items()}"
   ]
  },
  {
   "cell_type": "code",
   "execution_count": 7,
   "metadata": {
    "collapsed": false
   },
   "outputs": [
    {
     "name": "stdout",
     "output_type": "stream",
     "text": [
      "Embeddings shape: (253854, 100), dict size: 253854\n"
     ]
    }
   ],
   "source": [
    "print(\"Embeddings shape: %s, dict size: %d\" % (embeddings.shape, len(dict_data)))"
   ]
  },
  {
   "cell_type": "code",
   "execution_count": 8,
   "metadata": {
    "collapsed": true
   },
   "outputs": [],
   "source": [
    "def get_similar(word, top=10):\n",
    "    test_id = dict_data[word]\n",
    "    sim = np.dot(embeddings, embeddings[test_id])\n",
    "    order = np.argsort(sim)\n",
    "    top_idx = reversed(order[-top:])\n",
    "    return [rev_dict[idx] for idx in top_idx]"
   ]
  },
  {
   "cell_type": "code",
   "execution_count": 9,
   "metadata": {
    "collapsed": false
   },
   "outputs": [
    {
     "data": {
      "text/plain": [
       "['france',\n",
       " 'brazza',\n",
       " 'prequels',\n",
       " 'leclanch',\n",
       " 'emmaus',\n",
       " 'eugenicists',\n",
       " 'aguillard',\n",
       " 'spain',\n",
       " 'drakar',\n",
       " 'acylium']"
      ]
     },
     "execution_count": 9,
     "metadata": {},
     "output_type": "execute_result"
    }
   ],
   "source": [
    "get_similar('france')"
   ]
  },
  {
   "cell_type": "code",
   "execution_count": 10,
   "metadata": {
    "collapsed": false
   },
   "outputs": [
    {
     "data": {
      "text/plain": [
       "['king',\n",
       " 'great',\n",
       " 'crossdressing',\n",
       " 'momentarily',\n",
       " 'world',\n",
       " 'trapeze',\n",
       " 'maximilians',\n",
       " 'redoubled',\n",
       " 'melkite',\n",
       " 'yohannes']"
      ]
     },
     "execution_count": 10,
     "metadata": {},
     "output_type": "execute_result"
    }
   ],
   "source": [
    "get_similar('king')"
   ]
  },
  {
   "cell_type": "code",
   "execution_count": 11,
   "metadata": {
    "collapsed": false
   },
   "outputs": [
    {
     "data": {
      "text/plain": [
       "['trial',\n",
       " 'upgraded',\n",
       " 'writeups',\n",
       " 'chandrasekhar',\n",
       " 'tresco',\n",
       " 'mapping',\n",
       " 'smoushond',\n",
       " 'gentili',\n",
       " 'allow',\n",
       " 'go']"
      ]
     },
     "execution_count": 11,
     "metadata": {},
     "output_type": "execute_result"
    }
   ],
   "source": [
    "get_similar('trial')"
   ]
  },
  {
   "cell_type": "code",
   "execution_count": 12,
   "metadata": {
    "collapsed": false
   },
   "outputs": [
    {
     "data": {
      "text/plain": [
       "['she',\n",
       " 'he',\n",
       " 'her',\n",
       " 'so',\n",
       " 'it',\n",
       " 'stewing',\n",
       " 'filmfestival',\n",
       " 'but',\n",
       " 'arbitrated',\n",
       " 'who']"
      ]
     },
     "execution_count": 12,
     "metadata": {},
     "output_type": "execute_result"
    }
   ],
   "source": [
    "get_similar('she')"
   ]
  },
  {
   "cell_type": "code",
   "execution_count": 15,
   "metadata": {
    "collapsed": false
   },
   "outputs": [
    {
     "data": {
      "text/plain": [
       "['god',\n",
       " 'concept',\n",
       " 'phocoenoides',\n",
       " 'presided',\n",
       " 'looked',\n",
       " 'because',\n",
       " 'skated',\n",
       " 'combined',\n",
       " 'arkadievich',\n",
       " 'maisons']"
      ]
     },
     "execution_count": 15,
     "metadata": {},
     "output_type": "execute_result"
    }
   ],
   "source": [
    "get_similar('god')"
   ]
  },
  {
   "cell_type": "code",
   "execution_count": 14,
   "metadata": {
    "collapsed": false
   },
   "outputs": [
    {
     "data": {
      "text/plain": [
       "['love',\n",
       " 'approach',\n",
       " 'gade',\n",
       " 'start',\n",
       " 'outweigh',\n",
       " 'pollucite',\n",
       " 'affine',\n",
       " 'have',\n",
       " 'publishing',\n",
       " 'provision']"
      ]
     },
     "execution_count": 14,
     "metadata": {},
     "output_type": "execute_result"
    }
   ],
   "source": [
    "get_similar('love')"
   ]
  },
  {
   "cell_type": "code",
   "execution_count": 16,
   "metadata": {
    "collapsed": false
   },
   "outputs": [
    {
     "data": {
      "text/plain": [
       "['it', 'which', 'this', 'but', 'they', 'he', 'that', 'an', 'however', 'always']"
      ]
     },
     "execution_count": 16,
     "metadata": {},
     "output_type": "execute_result"
    }
   ],
   "source": [
    "get_similar('it')"
   ]
  },
  {
   "cell_type": "code",
   "execution_count": 19,
   "metadata": {
    "collapsed": false
   },
   "outputs": [
    {
     "data": {
      "text/plain": [
       "['the', 'a', 'and', 'in', 'of', 'to', 's', 'an', 'was', 'this']"
      ]
     },
     "execution_count": 19,
     "metadata": {},
     "output_type": "execute_result"
    }
   ],
   "source": [
    "get_similar('the')"
   ]
  },
  {
   "cell_type": "code",
   "execution_count": null,
   "metadata": {
    "collapsed": true
   },
   "outputs": [],
   "source": []
  }
 ],
 "metadata": {
  "kernelspec": {
   "display_name": "Python 3",
   "language": "python",
   "name": "python3"
  },
  "language_info": {
   "codemirror_mode": {
    "name": "ipython",
    "version": 3
   },
   "file_extension": ".py",
   "mimetype": "text/x-python",
   "name": "python",
   "nbconvert_exporter": "python",
   "pygments_lexer": "ipython3",
   "version": "3.5.1"
  }
 },
 "nbformat": 4,
 "nbformat_minor": 0
}
