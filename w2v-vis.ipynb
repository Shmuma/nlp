{
 "cells": [
  {
   "cell_type": "code",
   "execution_count": 1,
   "metadata": {
    "collapsed": true
   },
   "outputs": [],
   "source": [
    "import numpy as np\n",
    "import pickle"
   ]
  },
  {
   "cell_type": "code",
   "execution_count": 2,
   "metadata": {
    "collapsed": false
   },
   "outputs": [],
   "source": [
    "embeddings = np.load(\"w2v_rev-59000.npy\")\n",
    "with open(\"sst.dict\", \"rb\") as fd:\n",
    "    dict_data = pickle.load(fd)"
   ]
  },
  {
   "cell_type": "code",
   "execution_count": 3,
   "metadata": {
    "collapsed": false
   },
   "outputs": [],
   "source": [
    "# build reverse dictionary\n",
    "rev_dict = {idx: token for token, idx in dict_data.items()}"
   ]
  },
  {
   "cell_type": "code",
   "execution_count": 4,
   "metadata": {
    "collapsed": false
   },
   "outputs": [
    {
     "name": "stdout",
     "output_type": "stream",
     "text": [
      "Embeddings shape: (19538, 100), dict size: 19538\n"
     ]
    }
   ],
   "source": [
    "print(\"Embeddings shape: %s, dict size: %d\" % (embeddings.shape, len(dict_data)))"
   ]
  },
  {
   "cell_type": "code",
   "execution_count": 5,
   "metadata": {
    "collapsed": true
   },
   "outputs": [],
   "source": [
    "def get_similar(word, top=10):\n",
    "    test_id = dict_data[word]\n",
    "    sim = np.dot(embeddings, embeddings[test_id])\n",
    "    order = np.argsort(sim)\n",
    "    top_idx = reversed(order[-top:])\n",
    "    return [rev_dict[idx] for idx in top_idx]"
   ]
  },
  {
   "cell_type": "code",
   "execution_count": 6,
   "metadata": {
    "collapsed": false
   },
   "outputs": [
    {
     "data": {
      "text/plain": [
       "['france',\n",
       " 'rung',\n",
       " 'borchardt',\n",
       " 'self-congratulatory',\n",
       " 'ricci',\n",
       " 'disorienting',\n",
       " 'taunt',\n",
       " 'styled',\n",
       " 'prosthetic',\n",
       " 'serials']"
      ]
     },
     "execution_count": 6,
     "metadata": {},
     "output_type": "execute_result"
    }
   ],
   "source": [
    "get_similar('france')"
   ]
  },
  {
   "cell_type": "code",
   "execution_count": 7,
   "metadata": {
    "collapsed": false
   },
   "outputs": [
    {
     "data": {
      "text/plain": [
       "['king',\n",
       " 'uhhh',\n",
       " 'bielinsky',\n",
       " 'scherfig',\n",
       " 'seventeen',\n",
       " 'pounds',\n",
       " 'nuked',\n",
       " 'catch',\n",
       " 'conniving',\n",
       " 'claire']"
      ]
     },
     "execution_count": 7,
     "metadata": {},
     "output_type": "execute_result"
    }
   ],
   "source": [
    "get_similar('king')"
   ]
  },
  {
   "cell_type": "code",
   "execution_count": 15,
   "metadata": {
    "collapsed": false
   },
   "outputs": [
    {
     "data": {
      "text/plain": [
       "['trial',\n",
       " 'future',\n",
       " 'great',\n",
       " 'dramatic',\n",
       " 'startling',\n",
       " 'idea',\n",
       " 'precious',\n",
       " 'real',\n",
       " 'kind',\n",
       " 'surprise']"
      ]
     },
     "execution_count": 15,
     "metadata": {},
     "output_type": "execute_result"
    }
   ],
   "source": [
    "get_similar('trial')"
   ]
  },
  {
   "cell_type": "code",
   "execution_count": 8,
   "metadata": {
    "collapsed": false
   },
   "outputs": [
    {
     "data": {
      "text/plain": [
       "['she',\n",
       " 'he',\n",
       " 'here',\n",
       " 'schaeffer',\n",
       " 'exhaustion',\n",
       " 'eighties',\n",
       " 'teenage',\n",
       " 'survivors',\n",
       " 'controlled',\n",
       " 'noon']"
      ]
     },
     "execution_count": 8,
     "metadata": {},
     "output_type": "execute_result"
    }
   ],
   "source": [
    "get_similar('she')"
   ]
  },
  {
   "cell_type": "code",
   "execution_count": 9,
   "metadata": {
    "collapsed": false
   },
   "outputs": [
    {
     "data": {
      "text/plain": [
       "['god',\n",
       " 'double-cross',\n",
       " 'people',\n",
       " 'nine',\n",
       " 'paris',\n",
       " 'mcklusky',\n",
       " 'shadow',\n",
       " 'sacre',\n",
       " 'right-thinking',\n",
       " 'leveling']"
      ]
     },
     "execution_count": 9,
     "metadata": {},
     "output_type": "execute_result"
    }
   ],
   "source": [
    "get_similar('god')"
   ]
  },
  {
   "cell_type": "code",
   "execution_count": 10,
   "metadata": {
    "collapsed": false
   },
   "outputs": [
    {
     "data": {
      "text/plain": [
       "['love',\n",
       " '``',\n",
       " 'confusions',\n",
       " 'super-powers',\n",
       " 'grand-scale',\n",
       " 'summary',\n",
       " 'cumulative',\n",
       " 'full-blown',\n",
       " 'about',\n",
       " 'bad']"
      ]
     },
     "execution_count": 10,
     "metadata": {},
     "output_type": "execute_result"
    }
   ],
   "source": [
    "get_similar('love')"
   ]
  },
  {
   "cell_type": "code",
   "execution_count": 11,
   "metadata": {
    "collapsed": false
   },
   "outputs": [
    {
     "data": {
      "text/plain": [
       "['it', 'movie', ',', 'he', 'katzenberg', 'you', 'and', 'let', 'the', 'banzai']"
      ]
     },
     "execution_count": 11,
     "metadata": {},
     "output_type": "execute_result"
    }
   ],
   "source": [
    "get_similar('it')"
   ]
  },
  {
   "cell_type": "code",
   "execution_count": null,
   "metadata": {
    "collapsed": true
   },
   "outputs": [],
   "source": []
  }
 ],
 "metadata": {
  "kernelspec": {
   "display_name": "Python 3",
   "language": "python",
   "name": "python3"
  },
  "language_info": {
   "codemirror_mode": {
    "name": "ipython",
    "version": 3
   },
   "file_extension": ".py",
   "mimetype": "text/x-python",
   "name": "python",
   "nbconvert_exporter": "python",
   "pygments_lexer": "ipython3",
   "version": "3.5.1"
  }
 },
 "nbformat": 4,
 "nbformat_minor": 0
}
